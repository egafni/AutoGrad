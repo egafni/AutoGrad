{
 "cells": [
  {
   "cell_type": "code",
   "execution_count": 2,
   "id": "a21ff241-2363-4064-b60e-3e69bb361dfc",
   "metadata": {},
   "outputs": [],
   "source": [
    "# %load_ext autoreload\n",
    "# %autoreload 2\n",
    "# from nn.value import Value\n",
    "import random\n",
    "import numpy as np\n",
    "import matplotlib.pyplot as plt\n",
    "import torch\n",
    "\n",
    "%matplotlib inline\n",
    "np.random.seed(1337)\n",
    "random.seed(1337)"
   ]
  },
  {
   "cell_type": "code",
   "execution_count": 3,
   "id": "f8bc96c4-1b62-402f-88d6-74f3a5f7cc14",
   "metadata": {},
   "outputs": [
    {
     "data": {
      "text/plain": [
       "<matplotlib.collections.PathCollection at 0x16c543010>"
      ]
     },
     "execution_count": 3,
     "metadata": {},
     "output_type": "execute_result"
    },
    {
     "data": {
      "image/png": "[encoded data removed]",
      "text/plain": [
       "<Figure size 500x500 with 1 Axes>"
      ]
     },
     "metadata": {},
     "output_type": "display_data"
    }
   ],
   "source": [
    "# make up a dataset\n",
    "\n",
    "from sklearn.datasets import make_moons, make_blobs\n",
    "X_raw, y_raw = X, y = make_moons(n_samples=50, noise=0.1)\n",
    "\n",
    "# visualize in 2D\n",
    "plt.figure(figsize=(5,5))\n",
    "plt.scatter(X[:,0], X[:,1], c=y, s=20, cmap='jet')"
   ]
  },
  {
   "cell_type": "code",
   "execution_count": 4,
   "id": "1d40bf5d-a611-4a77-8ed7-2be3206f96fe",
   "metadata": {},
   "outputs": [
    {
     "data": {
      "text/plain": [
       "(50, 2)"
      ]
     },
     "execution_count": 4,
     "metadata": {},
     "output_type": "execute_result"
    }
   ],
   "source": [
    "X.shape"
   ]
  },
  {
   "cell_type": "code",
   "execution_count": 12,
   "id": "e3990bfc-b630-46b5-a802-8c856ba5cc43",
   "metadata": {},
   "outputs": [
    {
     "data": {
      "text/plain": [
       "(torch.Size([16, 2]), torch.Size([2, 50]))"
      ]
     },
     "execution_count": 12,
     "metadata": {},
     "output_type": "execute_result"
    }
   ],
   "source": [
    "w1.shape, X.T.shape"
   ]
  },
  {
   "cell_type": "code",
   "execution_count": 28,
   "id": "b9e847de-066e-4048-9928-f489a1df7b63",
   "metadata": {},
   "outputs": [
    {
     "name": "stdout",
     "output_type": "stream",
     "text": [
      "loss 2.1982 | acc 0.5000\n"
     ]
    }
   ],
   "source": [
    "lr = .1\n",
    "\n",
    "X = torch.from_numpy(X_raw).float()\n",
    "y = torch.from_numpy(y_raw)\n",
    "w1 = torch.randn(2, 16, requires_grad=True)\n",
    "b1 = torch.randn(16, requires_grad=True)\n",
    "w2 = torch.randn(16, 2, requires_grad=True)\n",
    "b2 = torch.randn(2, requires_grad=True)\n",
    "\n",
    "params = [w1,b1,w2,b2]\n",
    "\n",
    "for i in range(1):\n",
    "    # fwd\n",
    "    x = X@w1+b1\n",
    "    x = torch.tanh(x)\n",
    "    x = x@w2+b2\n",
    "    y_logits = x\n",
    "    y_logits.retain_grad()\n",
    "    y_probas = torch.softmax(y_logits, dim=1)\n",
    "    y_probas.retain_grad()\n",
    "    nll = -torch.log(y_probas[torch.arange(0,len(y_probas)),y]).mean()\n",
    "    loss = nll\n",
    "\n",
    "    # zero grad\n",
    "    for p in params:\n",
    "        p.grad = None\n",
    "    \n",
    "    #backward\n",
    "    nll.backward()\n",
    "\n",
    "    with torch.no_grad():\n",
    "        for p in params:\n",
    "            p += -p.grad * lr\n",
    "        \n",
    "    # metrics\n",
    "    y_preds = y_probas.argmax(1)\n",
    "    acc = (y_preds == y).float().mean()\n",
    "\n",
    "    if i % 10 == 0:\n",
    "        print(f'loss {loss.item():.4f} | acc {acc:.4f}')"
   ]
  },
  {
   "cell_type": "code",
   "execution_count": null,
   "id": "cf4d2ed0-ae82-46f6-8ce1-39a79f8400ca",
   "metadata": {},
   "outputs": [],
   "source": [
    "y_log"
   ]
  },
  {
   "cell_type": "code",
   "execution_count": 30,
   "id": "c8a6aac7-ac11-4a47-a3fb-ae0b85bf48df",
   "metadata": {},
   "outputs": [
    {
     "data": {
      "text/plain": [
       "tensor([[-0.0181,  0.0181],\n",
       "        [-0.0199,  0.0199],\n",
       "        [ 0.0008, -0.0008],\n",
       "        [-0.0194,  0.0194],\n",
       "        [-0.0199,  0.0199],\n",
       "        [ 0.0076, -0.0076],\n",
       "        [-0.0198,  0.0198],\n",
       "        [ 0.0006, -0.0006],\n",
       "        [ 0.0007, -0.0007],\n",
       "        [ 0.0014, -0.0014],\n",
       "        [-0.0192,  0.0192],\n",
       "        [ 0.0008, -0.0008],\n",
       "        [ 0.0077, -0.0077],\n",
       "        [-0.0199,  0.0199],\n",
       "        [-0.0196,  0.0196],\n",
       "        [-0.0199,  0.0199],\n",
       "        [ 0.0049, -0.0049],\n",
       "        [ 0.0020, -0.0020],\n",
       "        [-0.0190,  0.0190],\n",
       "        [-0.0199,  0.0199],\n",
       "        [-0.0199,  0.0199],\n",
       "        [-0.0199,  0.0199],\n",
       "        [-0.0197,  0.0197],\n",
       "        [ 0.0017, -0.0017],\n",
       "        [ 0.0011, -0.0011],\n",
       "        [-0.0199,  0.0199],\n",
       "        [ 0.0069, -0.0069],\n",
       "        [ 0.0072, -0.0072],\n",
       "        [-0.0189,  0.0189],\n",
       "        [ 0.0061, -0.0061],\n",
       "        [-0.0196,  0.0196],\n",
       "        [ 0.0026, -0.0026],\n",
       "        [ 0.0005, -0.0005],\n",
       "        [ 0.0004, -0.0004],\n",
       "        [-0.0186,  0.0186],\n",
       "        [-0.0194,  0.0194],\n",
       "        [ 0.0079, -0.0079],\n",
       "        [ 0.0060, -0.0060],\n",
       "        [-0.0195,  0.0195],\n",
       "        [-0.0198,  0.0198],\n",
       "        [-0.0198,  0.0198],\n",
       "        [-0.0197,  0.0197],\n",
       "        [-0.0198,  0.0198],\n",
       "        [ 0.0002, -0.0002],\n",
       "        [ 0.0089, -0.0089],\n",
       "        [ 0.0002, -0.0002],\n",
       "        [ 0.0032, -0.0032],\n",
       "        [ 0.0041, -0.0041],\n",
       "        [ 0.0003, -0.0003],\n",
       "        [-0.0194,  0.0194]])"
      ]
     },
     "execution_count": 30,
     "metadata": {},
     "output_type": "execute_result"
    }
   ],
   "source": [
    "y_logits.grad"
   ]
  },
  {
   "cell_type": "code",
   "execution_count": null,
   "id": "7dc4158c-2712-4430-be51-37f44330de5a",
   "metadata": {},
   "outputs": [],
   "source": []
  }
 ],
 "metadata": {
  "kernelspec": {
   "display_name": "Python 3 (ipykernel)",
   "language": "python",
   "name": "python3"
  },
  "language_info": {
   "codemirror_mode": {
    "name": "ipython",
    "version": 3
   },
   "file_extension": ".py",
   "mimetype": "text/x-python",
   "name": "python",
   "nbconvert_exporter": "python",
   "pygments_lexer": "ipython3",
   "version": "3.11.6"
  }
 },
 "nbformat": 4,
 "nbformat_minor": 5
}
