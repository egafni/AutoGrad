{
 "cells": [
  {
   "cell_type": "code",
   "execution_count": 24,
   "id": "15645494-8acc-49c0-acc5-79bd78e31709",
   "metadata": {},
   "outputs": [
    {
     "ename": "ValueError",
     "evalue": "non-broadcastable output operand with shape () doesn't match the broadcast shape (1,2)",
     "output_type": "error",
     "traceback": [
      "\u001b[0;31m---------------------------------------------------------------------------\u001b[0m",
      "\u001b[0;31mValueError\u001b[0m                                Traceback (most recent call last)",
      "Cell \u001b[0;32mIn[24], line 94\u001b[0m\n\u001b[1;32m     92\u001b[0m L \u001b[38;5;241m=\u001b[39m w1 \u001b[38;5;241m*\u001b[39m \u001b[38;5;241m2\u001b[39m \u001b[38;5;241m+\u001b[39m b\n\u001b[1;32m     93\u001b[0m \u001b[38;5;66;03m# L.grad\u001b[39;00m\n\u001b[0;32m---> 94\u001b[0m \u001b[43mL\u001b[49m\u001b[38;5;241;43m.\u001b[39;49m\u001b[43mbackward\u001b[49m\u001b[43m(\u001b[49m\u001b[43m)\u001b[49m\n",
      "Cell \u001b[0;32mIn[24], line 87\u001b[0m, in \u001b[0;36mT.backward\u001b[0;34m(self)\u001b[0m\n\u001b[1;32m     85\u001b[0m \u001b[38;5;28;01mdef\u001b[39;00m \u001b[38;5;21mbackward\u001b[39m(\u001b[38;5;28mself\u001b[39m):\n\u001b[1;32m     86\u001b[0m     \u001b[38;5;28mself\u001b[39m\u001b[38;5;241m.\u001b[39mgrad\n\u001b[0;32m---> 87\u001b[0m     \u001b[38;5;28;43mself\u001b[39;49m\u001b[38;5;241;43m.\u001b[39;49m\u001b[43m_backward\u001b[49m\u001b[43m(\u001b[49m\u001b[43m)\u001b[49m\n",
      "Cell \u001b[0;32mIn[24], line 59\u001b[0m, in \u001b[0;36mT.__add__.<locals>._backward\u001b[0;34m()\u001b[0m\n\u001b[1;32m     57\u001b[0m b \u001b[38;5;241m=\u001b[39m np\u001b[38;5;241m.\u001b[39mbroadcast(\u001b[38;5;28mself\u001b[39m\u001b[38;5;241m.\u001b[39mdata, other\u001b[38;5;241m.\u001b[39mdata)\n\u001b[1;32m     58\u001b[0m grad \u001b[38;5;241m=\u001b[39m np\u001b[38;5;241m.\u001b[39mones(b\u001b[38;5;241m.\u001b[39mshape)\n\u001b[0;32m---> 59\u001b[0m \u001b[43mother\u001b[49m\u001b[38;5;241;43m.\u001b[39;49m\u001b[43mgrad\u001b[49m\u001b[43m \u001b[49m\u001b[38;5;241;43m+\u001b[39;49m\u001b[38;5;241;43m=\u001b[39;49m\u001b[43m \u001b[49m\u001b[43mgrad\u001b[49m\u001b[43m \u001b[49m\u001b[38;5;241;43m*\u001b[39;49m\u001b[43m \u001b[49m\u001b[43mt\u001b[49m\u001b[38;5;241;43m.\u001b[39;49m\u001b[43mgrad\u001b[49m\n",
      "\u001b[0;31mValueError\u001b[0m: non-broadcastable output operand with shape () doesn't match the broadcast shape (1,2)"
     ]
    }
   ],
   "source": [
    "import numpy as np\n",
    "\n",
    "class T:\n",
    "    def __init__(self, data, children=()):\n",
    "        if isinstance(data, T):\n",
    "            raise\n",
    "        data = np.asarray(data)\n",
    "            \n",
    "        self.data = data\n",
    "        self.grad = np.zeros_like(data, dtype=float)\n",
    "        self._backward = None\n",
    "\n",
    "    @property\n",
    "    def shape(self):\n",
    "        return self.data.shape\n",
    "\n",
    "    def __repr__(self):\n",
    "        return f'T({self.data})'\n",
    "\n",
    "    def __mul__(self, other):\n",
    "        if not isinstance(other, T):\n",
    "            other = T(other)\n",
    "\n",
    "        t = T(self.data * other.data, children=(self, other))\n",
    "\n",
    "        def _backward():\n",
    "            # update self.grad\n",
    "            b = np.broadcast(self.data, other.data)\n",
    "            grad = np.empty(b.shape)\n",
    "            grad.flat = [o for (s,o) in b]\n",
    "            self.grad += grad * t.grad\n",
    "\n",
    "            # update other.grad\n",
    "            b = np.broadcast(self.data, other.data)\n",
    "            grad = np.empty(b.shape)\n",
    "            grad.flat = [s for (s,o) in b]\n",
    "            other.grad += grad * t.grad\n",
    "    \n",
    "\n",
    "        t._backward = _backward\n",
    "                \n",
    "        return t\n",
    "                \n",
    "    def __add__(self, other):\n",
    "        if not isinstance(other, T):\n",
    "            other = T(other)\n",
    "\n",
    "        t = T(self.data + other.data, children=(self, other))\n",
    "\n",
    "        def _backward():\n",
    "            # update self.grad\n",
    "            b = np.broadcast(self.data, other.data)\n",
    "            grad = np.ones(b.shape)\n",
    "            self.grad += grad * t.grad\n",
    "\n",
    "            # update other.grad\n",
    "            b = np.broadcast(self.data, other.data)\n",
    "            grad = np.ones(b.shape)\n",
    "            other.grad += grad * t.grad\n",
    "    \n",
    "\n",
    "        t._backward = _backward\n",
    "                \n",
    "        return t\n",
    "\n",
    "    def __pow__(self, other):\n",
    "        assert isinstance(other, (int,float))\n",
    "        exp = other\n",
    "\n",
    "        t = T(self.data ** other, children=(self,))   \n",
    "\n",
    "        def _backward():\n",
    "            b = np.broadcast(self.data, exp)\n",
    "            grad = np.empty(b.shape)\n",
    "            grad.flat = [e*s**(e-1) for (s,e) in b]\n",
    "            \n",
    "            self.grad += grad * t.grad\n",
    "        t._backward = _backward\n",
    "        return t\n",
    "        \n",
    "\n",
    "    def __truediv__(self, other):\n",
    "        return self * other ** -1\n",
    "\n",
    "    def backward(self):\n",
    "        self.grad\n",
    "        self._backward()\n",
    "\n",
    "    \n",
    "w1 = T([[1,2]])\n",
    "b = T(5)\n",
    "L = w1 * 2 + b\n",
    "# L.grad\n",
    "L.backward()\n"
   ]
  },
  {
   "cell_type": "code",
   "execution_count": 39,
   "id": "356ae17b-8f78-48ed-bff3-53c44f9a8a60",
   "metadata": {},
   "outputs": [
    {
     "data": {
      "text/plain": [
       "[(array(1), array(3)), (array(2), array(3))]"
      ]
     },
     "execution_count": 39,
     "metadata": {},
     "output_type": "execute_result"
    }
   ],
   "source": [
    "list(np.nditer([x,y]))"
   ]
  },
  {
   "cell_type": "code",
   "execution_count": 103,
   "id": "dfbea6ee-3000-4564-be5c-72f92054bea2",
   "metadata": {},
   "outputs": [
    {
     "name": "stdout",
     "output_type": "stream",
     "text": [
      "(0, 0)\n",
      "(0, 1)\n",
      "(0, 2)\n",
      "(1, 0)\n",
      "(1, 1)\n",
      "(1, 2)\n"
     ]
    }
   ],
   "source": [
    "a = np.ones((2,3))*2\n",
    "b = np.ones((3,))*3\n",
    "r = None\n",
    "\n",
    "with np.nditer([a,b, None],flags=['multi_index']) as it:\n",
    "    for x, y,z in it:\n",
    "        print(it.multi_index)\n",
    "        z[...] = z\n",
    "        r = it.operands[2]"
   ]
  },
  {
   "cell_type": "code",
   "execution_count": 80,
   "id": "fd8e2ffe-ec78-496e-aff2-2ef71dd15d87",
   "metadata": {},
   "outputs": [
    {
     "data": {
      "text/plain": [
       "array([[3., 3., 3.],\n",
       "       [3., 3., 3.]])"
      ]
     },
     "execution_count": 80,
     "metadata": {},
     "output_type": "execute_result"
    }
   ],
   "source": [
    "r"
   ]
  },
  {
   "cell_type": "code",
   "execution_count": 82,
   "id": "c4770173-510f-4537-9870-2faf7d426a2b",
   "metadata": {},
   "outputs": [],
   "source": [
    "a_ = torch.tensor(a, requires_grad=True)\n",
    "b_ = torch.tensor(b, requires_grad=True)"
   ]
  },
  {
   "cell_type": "code",
   "execution_count": 95,
   "id": "96b34151-63de-413d-a8dd-84e758b5594e",
   "metadata": {},
   "outputs": [
    {
     "data": {
      "text/plain": [
       "tensor([4., 4., 4.], dtype=torch.float64)"
      ]
     },
     "execution_count": 95,
     "metadata": {},
     "output_type": "execute_result"
    }
   ],
   "source": [
    "b_.grad"
   ]
  },
  {
   "cell_type": "code",
   "execution_count": 86,
   "id": "1298f968-98e4-4ab3-9515-5ad230f6804d",
   "metadata": {},
   "outputs": [],
   "source": [
    "l = a_*b_\n",
    "l.sum().backward()"
   ]
  },
  {
   "cell_type": "code",
   "execution_count": 66,
   "id": "5312a880-c8fc-4de2-8cd8-19c6ff2339ce",
   "metadata": {},
   "outputs": [
    {
     "name": "stdout",
     "output_type": "stream",
     "text": [
      "(array(1.), array(2.))\n",
      "(0, 0)\n",
      "(array(1.), array(2.))\n",
      "(0, 1)\n",
      "(array(1.), array(2.))\n",
      "(0, 2)\n",
      "(array(1.), array(2.))\n",
      "(1, 0)\n",
      "(array(1.), array(2.))\n",
      "(1, 1)\n",
      "(array(1.), array(2.))\n",
      "(1, 2)\n"
     ]
    }
   ],
   "source": [
    "x = np.ones((2,3))\n",
    "y = np.ones((3,))*2\n",
    "it = np.nditer([x,y], flags=['reduce_ok','multi_index'], op_flags=[['readonly'],['readonly']])\n",
    "for x in it:\n",
    "    print(x)\n",
    "    # print(it.index)\n",
    "    print(it.multi_index)"
   ]
  },
  {
   "cell_type": "code",
   "execution_count": 60,
   "id": "d38e138f-410f-42f1-b7fb-df3e01c480e7",
   "metadata": {},
   "outputs": [
    {
     "ename": "ValueError",
     "evalue": "Iterator is past the end",
     "output_type": "error",
     "traceback": [
      "\u001b[0;31m---------------------------------------------------------------------------\u001b[0m",
      "\u001b[0;31mValueError\u001b[0m                                Traceback (most recent call last)",
      "Cell \u001b[0;32mIn[60], line 1\u001b[0m\n\u001b[0;32m----> 1\u001b[0m \u001b[43mit\u001b[49m\u001b[38;5;241;43m.\u001b[39;49m\u001b[43mindex\u001b[49m\n",
      "\u001b[0;31mValueError\u001b[0m: Iterator is past the end"
     ]
    }
   ],
   "source": []
  },
  {
   "cell_type": "code",
   "execution_count": 42,
   "id": "d4fb6a3b-8b35-485a-9bc6-38335fc03e98",
   "metadata": {},
   "outputs": [
    {
     "name": "stdout",
     "output_type": "stream",
     "text": [
      "(array([1, 2]), array(2))\n"
     ]
    },
    {
     "data": {
      "text/plain": [
       "array(2)"
      ]
     },
     "execution_count": 42,
     "metadata": {},
     "output_type": "execute_result"
    }
   ],
   "source": [
    "def square(a,b):\n",
    "    with np.nditer([a, b]) as it:\n",
    "        # for x, y in it:\n",
    "        #     y[...] = 1\n",
    "        print(it.operands)\n",
    "        return it.operands[1]\n",
    "\n",
    "square([1,2],2)"
   ]
  },
  {
   "cell_type": "code",
   "execution_count": 29,
   "id": "874b7759-5380-45da-932a-41a186594556",
   "metadata": {},
   "outputs": [
    {
     "data": {
      "text/plain": [
       "0"
      ]
     },
     "execution_count": 29,
     "metadata": {},
     "output_type": "execute_result"
    }
   ],
   "source": [
    "x = np.array([1,2])\n",
    "y = np.array(3)\n",
    "b = np.broadcast(x,y)\n",
    "b.index"
   ]
  },
  {
   "cell_type": "code",
   "execution_count": 36,
   "id": "ed85e274-b6dd-4c98-9e57-9a798d05fe64",
   "metadata": {},
   "outputs": [
    {
     "data": {
      "text/plain": [
       "[]"
      ]
     },
     "execution_count": 36,
     "metadata": {},
     "output_type": "execute_result"
    }
   ],
   "source": [
    "list(b.iters[1])"
   ]
  },
  {
   "cell_type": "code",
   "execution_count": 31,
   "id": "659aa643-dc38-4eaf-8731-670d377f9acc",
   "metadata": {},
   "outputs": [
    {
     "data": {
      "text/plain": [
       "[(1, 3), (2, 3)]"
      ]
     },
     "execution_count": 31,
     "metadata": {},
     "output_type": "execute_result"
    }
   ],
   "source": [
    "list(b)"
   ]
  },
  {
   "cell_type": "code",
   "execution_count": 25,
   "id": "5f1c8f37-0450-4af8-b28a-ca4d6e99f455",
   "metadata": {},
   "outputs": [
    {
     "name": "stdout",
     "output_type": "stream",
     "text": [
      "> \u001b[0;32m/var/folders/nw/lktt921x1wg_wt5tfy5q9k2c0000gn/T/ipykernel_37031/1999081766.py\u001b[0m(59)\u001b[0;36m_backward\u001b[0;34m()\u001b[0m\n",
      "\u001b[0;32m     57 \u001b[0;31m            \u001b[0mb\u001b[0m \u001b[0;34m=\u001b[0m \u001b[0mnp\u001b[0m\u001b[0;34m.\u001b[0m\u001b[0mbroadcast\u001b[0m\u001b[0;34m(\u001b[0m\u001b[0mself\u001b[0m\u001b[0;34m.\u001b[0m\u001b[0mdata\u001b[0m\u001b[0;34m,\u001b[0m \u001b[0mother\u001b[0m\u001b[0;34m.\u001b[0m\u001b[0mdata\u001b[0m\u001b[0;34m)\u001b[0m\u001b[0;34m\u001b[0m\u001b[0;34m\u001b[0m\u001b[0m\n",
      "\u001b[0m\u001b[0;32m     58 \u001b[0;31m            \u001b[0mgrad\u001b[0m \u001b[0;34m=\u001b[0m \u001b[0mnp\u001b[0m\u001b[0;34m.\u001b[0m\u001b[0mones\u001b[0m\u001b[0;34m(\u001b[0m\u001b[0mb\u001b[0m\u001b[0;34m.\u001b[0m\u001b[0mshape\u001b[0m\u001b[0;34m)\u001b[0m\u001b[0;34m\u001b[0m\u001b[0;34m\u001b[0m\u001b[0m\n",
      "\u001b[0m\u001b[0;32m---> 59 \u001b[0;31m            \u001b[0mother\u001b[0m\u001b[0;34m.\u001b[0m\u001b[0mgrad\u001b[0m \u001b[0;34m+=\u001b[0m \u001b[0mgrad\u001b[0m \u001b[0;34m*\u001b[0m \u001b[0mt\u001b[0m\u001b[0;34m.\u001b[0m\u001b[0mgrad\u001b[0m\u001b[0;34m\u001b[0m\u001b[0;34m\u001b[0m\u001b[0m\n",
      "\u001b[0m\u001b[0;32m     60 \u001b[0;31m\u001b[0;34m\u001b[0m\u001b[0m\n",
      "\u001b[0m\u001b[0;32m     61 \u001b[0;31m\u001b[0;34m\u001b[0m\u001b[0m\n",
      "\u001b[0m\n"
     ]
    },
    {
     "name": "stdin",
     "output_type": "stream",
     "text": [
      "ipdb>  other.grad\n"
     ]
    },
    {
     "name": "stdout",
     "output_type": "stream",
     "text": [
      "array(0.)\n"
     ]
    },
    {
     "name": "stdin",
     "output_type": "stream",
     "text": [
      "ipdb>  self.grad\n"
     ]
    },
    {
     "name": "stdout",
     "output_type": "stream",
     "text": [
      "array([[0., 0.]])\n"
     ]
    },
    {
     "name": "stdin",
     "output_type": "stream",
     "text": [
      "ipdb>  grad\n"
     ]
    },
    {
     "name": "stdout",
     "output_type": "stream",
     "text": [
      "array([[1., 1.]])\n"
     ]
    },
    {
     "name": "stdin",
     "output_type": "stream",
     "text": [
      "ipdb>  other.grad\n"
     ]
    },
    {
     "name": "stdout",
     "output_type": "stream",
     "text": [
      "array(0.)\n"
     ]
    },
    {
     "name": "stdin",
     "output_type": "stream",
     "text": [
      "ipdb>  grad\n"
     ]
    },
    {
     "name": "stdout",
     "output_type": "stream",
     "text": [
      "array([[1., 1.]])\n"
     ]
    },
    {
     "name": "stdin",
     "output_type": "stream",
     "text": [
      "ipdb>  t.grad\n"
     ]
    },
    {
     "name": "stdout",
     "output_type": "stream",
     "text": [
      "array([[0., 0.]])\n"
     ]
    },
    {
     "name": "stdin",
     "output_type": "stream",
     "text": [
      "ipdb>  t.grad\n"
     ]
    },
    {
     "name": "stdout",
     "output_type": "stream",
     "text": [
      "array([[0., 0.]])\n"
     ]
    },
    {
     "name": "stdin",
     "output_type": "stream",
     "text": [
      "ipdb>  p b\n"
     ]
    },
    {
     "name": "stdout",
     "output_type": "stream",
     "text": [
      "<numpy.broadcast object at 0x13f055c30>\n"
     ]
    },
    {
     "name": "stdin",
     "output_type": "stream",
     "text": [
      "ipdb>  b.shape\n"
     ]
    },
    {
     "name": "stdout",
     "output_type": "stream",
     "text": [
      "*** The specified object '.shape' is not a function or was not found along sys.path.\n"
     ]
    },
    {
     "name": "stdin",
     "output_type": "stream",
     "text": [
      "ipdb>  p b.shape\n"
     ]
    },
    {
     "name": "stdout",
     "output_type": "stream",
     "text": [
      "(1, 2)\n"
     ]
    },
    {
     "name": "stdin",
     "output_type": "stream",
     "text": [
      "ipdb>  self.data.shape\n"
     ]
    },
    {
     "name": "stdout",
     "output_type": "stream",
     "text": [
      "(1, 2)\n"
     ]
    },
    {
     "name": "stdin",
     "output_type": "stream",
     "text": [
      "ipdb>  other.data.shape\n"
     ]
    },
    {
     "name": "stdout",
     "output_type": "stream",
     "text": [
      "()\n"
     ]
    },
    {
     "name": "stdin",
     "output_type": "stream",
     "text": [
      "ipdb>  q\n"
     ]
    }
   ],
   "source": [
    "%debug"
   ]
  },
  {
   "cell_type": "code",
   "execution_count": 21,
   "id": "20f1ac86-dcfc-4f90-8a88-89b69314dc22",
   "metadata": {},
   "outputs": [],
   "source": [
    "# _get_grads(x,w1,b, 'Value')"
   ]
  },
  {
   "cell_type": "code",
   "execution_count": 22,
   "id": "65605c05-9ce1-460e-9408-460697bd94de",
   "metadata": {},
   "outputs": [
    {
     "data": {
      "text/plain": [
       "(array([0., 0., 0.]), array([0., 0., 0.]))"
      ]
     },
     "execution_count": 22,
     "metadata": {},
     "output_type": "execute_result"
    }
   ],
   "source": [
    "import torch\n",
    "\n",
    "def _get_grads(x,w1,b1,backend):\n",
    "    if backend == 'Value':\n",
    "        f = T\n",
    "        # exp_ = exp\n",
    "        # log_ = log\n",
    "    elif backend == 'torch':\n",
    "        f = torch.tensor\n",
    "        exp_ = torch.exp\n",
    "        log_ = torch.log\n",
    "    else:\n",
    "        raise ValueError(f'{backend} is invalid')\n",
    "\n",
    "    x = f(x)\n",
    "    w1 = f(w1)\n",
    "    # b1 = f(b1)\n",
    "    L = x*w1\n",
    "\n",
    "    L.backward()\n",
    "    return x.grad, w1.grad\n",
    "    \n",
    "\n",
    "x = [1,2,3]\n",
    "w1 = [.1,.1,.1]\n",
    "b1 = 3.\n",
    "\n",
    "# assert np.isclose(_get_grads(x,w1,b, 'Value'), _get_grads(x,w1,b, 'torch')).all()\n",
    "_get_grads(x,w1,b, 'Value')"
   ]
  },
  {
   "cell_type": "code",
   "execution_count": 12,
   "id": "5c180cb4-d3a4-4db1-93a2-efad03ffbdbe",
   "metadata": {},
   "outputs": [
    {
     "name": "stdout",
     "output_type": "stream",
     "text": [
      "> \u001b[0;32m/var/folders/nw/lktt921x1wg_wt5tfy5q9k2c0000gn/T/ipykernel_37031/651032152.py\u001b[0m(6)\u001b[0;36m__init__\u001b[0;34m()\u001b[0m\n",
      "\u001b[0;32m      4 \u001b[0;31m    \u001b[0;32mdef\u001b[0m \u001b[0m__init__\u001b[0m\u001b[0;34m(\u001b[0m\u001b[0mself\u001b[0m\u001b[0;34m,\u001b[0m \u001b[0mdata\u001b[0m\u001b[0;34m,\u001b[0m \u001b[0mchildren\u001b[0m\u001b[0;34m=\u001b[0m\u001b[0;34m(\u001b[0m\u001b[0;34m)\u001b[0m\u001b[0;34m)\u001b[0m\u001b[0;34m:\u001b[0m\u001b[0;34m\u001b[0m\u001b[0;34m\u001b[0m\u001b[0m\n",
      "\u001b[0m\u001b[0;32m      5 \u001b[0;31m        \u001b[0;32mif\u001b[0m \u001b[0misinstance\u001b[0m\u001b[0;34m(\u001b[0m\u001b[0mdata\u001b[0m\u001b[0;34m,\u001b[0m \u001b[0mT\u001b[0m\u001b[0;34m)\u001b[0m\u001b[0;34m:\u001b[0m\u001b[0;34m\u001b[0m\u001b[0;34m\u001b[0m\u001b[0m\n",
      "\u001b[0m\u001b[0;32m----> 6 \u001b[0;31m            \u001b[0;32mraise\u001b[0m\u001b[0;34m\u001b[0m\u001b[0;34m\u001b[0m\u001b[0m\n",
      "\u001b[0m\u001b[0;32m      7 \u001b[0;31m        \u001b[0mdata\u001b[0m \u001b[0;34m=\u001b[0m \u001b[0mnp\u001b[0m\u001b[0;34m.\u001b[0m\u001b[0masarray\u001b[0m\u001b[0;34m(\u001b[0m\u001b[0mdata\u001b[0m\u001b[0;34m)\u001b[0m\u001b[0;34m\u001b[0m\u001b[0;34m\u001b[0m\u001b[0m\n",
      "\u001b[0m\u001b[0;32m      8 \u001b[0;31m\u001b[0;34m\u001b[0m\u001b[0m\n",
      "\u001b[0m\n"
     ]
    },
    {
     "name": "stdin",
     "output_type": "stream",
     "text": [
      "ipdb>  q\n"
     ]
    }
   ],
   "source": [
    "%debug"
   ]
  },
  {
   "cell_type": "code",
   "execution_count": 79,
   "id": "5b968341-d6d5-4638-b4a9-9fc85a45fcfd",
   "metadata": {},
   "outputs": [],
   "source": [
    "# np.empty((20,10))"
   ]
  },
  {
   "cell_type": "code",
   "execution_count": 67,
   "id": "4ad71805-5c72-4e5b-b455-78699a6a3e04",
   "metadata": {},
   "outputs": [],
   "source": [
    "L.grad = 1\n",
    "L._backward()"
   ]
  },
  {
   "cell_type": "code",
   "execution_count": 68,
   "id": "25f0080c-7177-4805-9751-4b8eb8baeaa3",
   "metadata": {},
   "outputs": [
    {
     "data": {
      "text/plain": [
       "array([[1., 1.]])"
      ]
     },
     "execution_count": 68,
     "metadata": {},
     "output_type": "execute_result"
    }
   ],
   "source": [
    "b.grad"
   ]
  },
  {
   "cell_type": "code",
   "execution_count": 62,
   "id": "0c1f6dc5-6484-4b57-b36a-80154702516d",
   "metadata": {},
   "outputs": [],
   "source": [
    "# w1.grad"
   ]
  },
  {
   "cell_type": "code",
   "execution_count": 29,
   "id": "f8d73646-3996-4ea1-b15b-e9474db0ba1c",
   "metadata": {},
   "outputs": [
    {
     "data": {
      "text/plain": [
       "array([1, 2])"
      ]
     },
     "execution_count": 29,
     "metadata": {},
     "output_type": "execute_result"
    }
   ],
   "source": [
    "w1.data"
   ]
  },
  {
   "cell_type": "code",
   "execution_count": 27,
   "id": "80b8f520-229e-4182-a6ee-3706c347c1c0",
   "metadata": {},
   "outputs": [
    {
     "data": {
      "text/plain": [
       "2"
      ]
     },
     "execution_count": 27,
     "metadata": {},
     "output_type": "execute_result"
    }
   ],
   "source": [
    "w1.grad"
   ]
  },
  {
   "cell_type": "code",
   "execution_count": 14,
   "id": "d42c1d0a-590b-4c28-9b24-c726f4bf6192",
   "metadata": {},
   "outputs": [
    {
     "data": {
      "text/plain": [
       "()"
      ]
     },
     "execution_count": 14,
     "metadata": {},
     "output_type": "execute_result"
    }
   ],
   "source": [
    "np.array(5).shape"
   ]
  },
  {
   "cell_type": "code",
   "execution_count": null,
   "id": "f8f9b651-4fd1-4188-a42e-d1efa3e4a2e0",
   "metadata": {},
   "outputs": [],
   "source": []
  }
 ],
 "metadata": {
  "kernelspec": {
   "display_name": "Python 3 (ipykernel)",
   "language": "python",
   "name": "python3"
  },
  "language_info": {
   "codemirror_mode": {
    "name": "ipython",
    "version": 3
   },
   "file_extension": ".py",
   "mimetype": "text/x-python",
   "name": "python",
   "nbconvert_exporter": "python",
   "pygments_lexer": "ipython3",
   "version": "3.11.6"
  }
 },
 "nbformat": 4,
 "nbformat_minor": 5
}
