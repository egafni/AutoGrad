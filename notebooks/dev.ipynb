{
 "cells": [
  {
   "cell_type": "code",
   "execution_count": 127,
   "id": "a742ff07-5fac-464f-abf3-47f0a18ed2e2",
   "metadata": {},
   "outputs": [],
   "source": [
    "# %load_ext autoreload\n",
    "# %autoreload 2\n",
    "# from nn.value import Value\n",
    "import random\n",
    "import numpy as np\n",
    "import matplotlib.pyplot as plt\n",
    "%matplotlib inline\n",
    "np.random.seed(1337)\n",
    "random.seed(1337)"
   ]
  },
  {
   "cell_type": "code",
   "execution_count": 128,
   "id": "4daaf011-2ce2-4767-9ec5-5360b6afd51a",
   "metadata": {},
   "outputs": [],
   "source": [
    "import torch\n",
    "\n",
    "def get_grads(x1,x2,w1,w2, backend='Value'):\n",
    "    if backend == 'Value':\n",
    "        f = Value\n",
    "    elif backend == 'torch':\n",
    "        f = torch.tensor\n",
    "    \n",
    "    x1, x2, w1, w2 = f(x1), f(x2), f(w1), f(w2)\n",
    "    parameters = [x1, x2, w1, w2]\n",
    "    \n",
    "    for p in parameters:\n",
    "        p.requires_grad=True\n",
    "    \n",
    "    # forward\n",
    "    y = x1*w1+x2*w2\n",
    "    \n",
    "    # zero\n",
    "    for p in parameters:\n",
    "        p.grad = 0.0 if backend == 'Value' else torch.tensor(0.0)\n",
    "    \n",
    "    y.backward()\n",
    "\n",
    "    return x1.grad, x2.grad, w1.grad, w2.grad"
   ]
  },
  {
   "cell_type": "code",
   "execution_count": 154,
   "id": "48f63db5-5a02-4d9d-adc4-17c40a8988b2",
   "metadata": {},
   "outputs": [],
   "source": []
  },
  {
   "cell_type": "code",
   "execution_count": 155,
   "id": "ff957a33-2b55-43d6-a61a-e886b3f6e332",
   "metadata": {},
   "outputs": [],
   "source": [
    "# # x1 = torch.tensor(5., requires_grad=True)\n",
    "# # w1 = torch.tensor(.1, requires_grad=True)\n",
    "\n",
    "# x1,x2 = 5, -1.\n",
    "# w1,w2 = .1, .04\n",
    "\n",
    "# # parameters = [x1,x2,w1,w2]\n",
    "    \n",
    "\n",
    "# y = x1*w1+x2*w2 # 5*.1\n",
    "\n",
    "\n",
    "# y.backward()\n",
    "# y.grad, x1.grad, w1.grad"
   ]
  },
  {
   "cell_type": "code",
   "execution_count": 156,
   "id": "037dbfb7-3a37-48fa-9948-5d178fca1142",
   "metadata": {},
   "outputs": [
    {
     "data": {
      "text/plain": [
       "(tensor(0.1000), tensor(0.0400), tensor(5.), tensor(-1.))"
      ]
     },
     "execution_count": 156,
     "metadata": {},
     "output_type": "execute_result"
    }
   ],
   "source": [
    "get_grads(x1,x2,w1,w2, 'torch')"
   ]
  },
  {
   "cell_type": "code",
   "execution_count": 157,
   "id": "ab2c2823-b03f-499e-aebc-82c6081413ed",
   "metadata": {},
   "outputs": [
    {
     "data": {
      "text/plain": [
       "(0.1, 0.04, 5.0, -1.0)"
      ]
     },
     "execution_count": 157,
     "metadata": {},
     "output_type": "execute_result"
    }
   ],
   "source": [
    "get_grads(x1,x2,w1,w2, 'Value')"
   ]
  },
  {
   "cell_type": "code",
   "execution_count": 147,
   "id": "0be4fb6e-4e6c-4039-83c9-8ada99f12c02",
   "metadata": {},
   "outputs": [],
   "source": [
    "# x1,x2 = 5., -1.\n",
    "# w1,w2 = .1, .04\n",
    "# assert get_grads(x1,x2,w1,w2, 'torch') == get_grads(x1,x2,w1,w2, 'Value')\n",
    "\n"
   ]
  },
  {
   "cell_type": "code",
   "execution_count": null,
   "id": "0c9fa275-a30b-449f-9bd8-05f0ca46a880",
   "metadata": {},
   "outputs": [],
   "source": []
  },
  {
   "cell_type": "code",
   "execution_count": 105,
   "id": "373c5788-36f8-4261-b7e7-d2879857d2f2",
   "metadata": {},
   "outputs": [
    {
     "name": "stdout",
     "output_type": "stream",
     "text": [
      "> \u001b[0;32m/var/folders/nw/lktt921x1wg_wt5tfy5q9k2c0000gn/T/ipykernel_66734/3498401481.py\u001b[0m(3)\u001b[0;36m__init__\u001b[0;34m()\u001b[0m\n",
      "\u001b[0;32m      1 \u001b[0;31m\u001b[0;32mclass\u001b[0m \u001b[0mValue\u001b[0m\u001b[0;34m:\u001b[0m\u001b[0;34m\u001b[0m\u001b[0;34m\u001b[0m\u001b[0m\n",
      "\u001b[0m\u001b[0;32m      2 \u001b[0;31m    \u001b[0;32mdef\u001b[0m \u001b[0m__init__\u001b[0m\u001b[0;34m(\u001b[0m\u001b[0mself\u001b[0m\u001b[0;34m,\u001b[0m \u001b[0mdata\u001b[0m\u001b[0;34m,\u001b[0m \u001b[0m_children\u001b[0m\u001b[0;34m=\u001b[0m\u001b[0;34m(\u001b[0m\u001b[0;34m)\u001b[0m\u001b[0;34m,\u001b[0m \u001b[0mname\u001b[0m\u001b[0;34m=\u001b[0m\u001b[0;32mNone\u001b[0m\u001b[0;34m)\u001b[0m\u001b[0;34m:\u001b[0m\u001b[0;34m\u001b[0m\u001b[0;34m\u001b[0m\u001b[0m\n",
      "\u001b[0m\u001b[0;32m----> 3 \u001b[0;31m        \u001b[0;32massert\u001b[0m \u001b[0misinstance\u001b[0m\u001b[0;34m(\u001b[0m\u001b[0mdata\u001b[0m\u001b[0;34m,\u001b[0m \u001b[0mfloat\u001b[0m\u001b[0;34m)\u001b[0m\u001b[0;34m\u001b[0m\u001b[0;34m\u001b[0m\u001b[0m\n",
      "\u001b[0m\u001b[0;32m      4 \u001b[0;31m\u001b[0;34m\u001b[0m\u001b[0m\n",
      "\u001b[0m\u001b[0;32m      5 \u001b[0;31m        \u001b[0mself\u001b[0m\u001b[0;34m.\u001b[0m\u001b[0mdata\u001b[0m \u001b[0;34m=\u001b[0m \u001b[0mdata\u001b[0m\u001b[0;34m\u001b[0m\u001b[0;34m\u001b[0m\u001b[0m\n",
      "\u001b[0m\n"
     ]
    },
    {
     "name": "stdin",
     "output_type": "stream",
     "text": [
      "ipdb>  data\n"
     ]
    },
    {
     "name": "stdout",
     "output_type": "stream",
     "text": [
      "Value(5.0)\n"
     ]
    },
    {
     "name": "stdin",
     "output_type": "stream",
     "text": [
      "ipdb>  u\n"
     ]
    },
    {
     "name": "stdout",
     "output_type": "stream",
     "text": [
      "> \u001b[0;32m/var/folders/nw/lktt921x1wg_wt5tfy5q9k2c0000gn/T/ipykernel_66734/2884024025.py\u001b[0m(9)\u001b[0;36mget_grads\u001b[0;34m()\u001b[0m\n",
      "\u001b[0;32m      7 \u001b[0;31m        \u001b[0mf\u001b[0m \u001b[0;34m=\u001b[0m \u001b[0mtorch\u001b[0m\u001b[0;34m.\u001b[0m\u001b[0mtensor\u001b[0m\u001b[0;34m\u001b[0m\u001b[0;34m\u001b[0m\u001b[0m\n",
      "\u001b[0m\u001b[0;32m      8 \u001b[0;31m\u001b[0;34m\u001b[0m\u001b[0m\n",
      "\u001b[0m\u001b[0;32m----> 9 \u001b[0;31m    \u001b[0mx1\u001b[0m\u001b[0;34m,\u001b[0m \u001b[0mx2\u001b[0m\u001b[0;34m,\u001b[0m \u001b[0mw1\u001b[0m\u001b[0;34m,\u001b[0m \u001b[0mw2\u001b[0m \u001b[0;34m=\u001b[0m \u001b[0mf\u001b[0m\u001b[0;34m(\u001b[0m\u001b[0mx1\u001b[0m\u001b[0;34m)\u001b[0m\u001b[0;34m,\u001b[0m \u001b[0mf\u001b[0m\u001b[0;34m(\u001b[0m\u001b[0mx2\u001b[0m\u001b[0;34m)\u001b[0m\u001b[0;34m,\u001b[0m \u001b[0mf\u001b[0m\u001b[0;34m(\u001b[0m\u001b[0mw1\u001b[0m\u001b[0;34m)\u001b[0m\u001b[0;34m,\u001b[0m \u001b[0mf\u001b[0m\u001b[0;34m(\u001b[0m\u001b[0mw2\u001b[0m\u001b[0;34m)\u001b[0m\u001b[0;34m\u001b[0m\u001b[0;34m\u001b[0m\u001b[0m\n",
      "\u001b[0m\u001b[0;32m     10 \u001b[0;31m    \u001b[0mparameters\u001b[0m \u001b[0;34m=\u001b[0m \u001b[0;34m[\u001b[0m\u001b[0mx1\u001b[0m\u001b[0;34m,\u001b[0m \u001b[0mx2\u001b[0m\u001b[0;34m,\u001b[0m \u001b[0mw1\u001b[0m\u001b[0;34m,\u001b[0m \u001b[0mw2\u001b[0m\u001b[0;34m]\u001b[0m\u001b[0;34m\u001b[0m\u001b[0;34m\u001b[0m\u001b[0m\n",
      "\u001b[0m\u001b[0;32m     11 \u001b[0;31m\u001b[0;34m\u001b[0m\u001b[0m\n",
      "\u001b[0m\n"
     ]
    },
    {
     "name": "stdin",
     "output_type": "stream",
     "text": [
      "ipdb>  p f\n"
     ]
    },
    {
     "name": "stdout",
     "output_type": "stream",
     "text": [
      "<class '__main__.Value'>\n"
     ]
    },
    {
     "name": "stdin",
     "output_type": "stream",
     "text": [
      "ipdb>  x1\n"
     ]
    },
    {
     "name": "stdout",
     "output_type": "stream",
     "text": [
      "Value(5.0)\n"
     ]
    },
    {
     "name": "stdin",
     "output_type": "stream",
     "text": [
      "ipdb>  x2\n"
     ]
    },
    {
     "name": "stdout",
     "output_type": "stream",
     "text": [
      "Value(-1.0)\n"
     ]
    },
    {
     "name": "stdin",
     "output_type": "stream",
     "text": [
      "ipdb>  q\n"
     ]
    }
   ],
   "source": [
    "%debug"
   ]
  },
  {
   "cell_type": "code",
   "execution_count": null,
   "id": "9f61761e-fde5-469d-b18f-09d999a31a0c",
   "metadata": {},
   "outputs": [],
   "source": [
    "x1,x2 = torch.tensor(5.), Value(-1.)\n",
    "w1,w2 = Value(.1), Value(.04)\n",
    "\n",
    "get_grads(x1,x2,w1,w2)\n"
   ]
  },
  {
   "cell_type": "code",
   "execution_count": null,
   "id": "b803260d-7298-48ab-9113-e60c81ef8d57",
   "metadata": {},
   "outputs": [],
   "source": []
  },
  {
   "cell_type": "code",
   "execution_count": 5,
   "id": "07f7bcf2-175f-400f-b255-8aff66b85b86",
   "metadata": {},
   "outputs": [],
   "source": []
  },
  {
   "cell_type": "code",
   "execution_count": null,
   "id": "e36d5587-cb41-42eb-b725-d0dd28026f1f",
   "metadata": {},
   "outputs": [],
   "source": [
    "# make up a dataset\n",
    "\n",
    "from sklearn.datasets import make_moons, make_blobs\n",
    "X, y = make_moons(n_samples=100, noise=0.1)\n",
    "\n",
    "y = y*2 - 1 # make y be -1 or 1\n",
    "# visualize in 2D\n",
    "plt.figure(figsize=(5,5))\n",
    "plt.scatter(X[:,0], X[:,1], c=y, s=20, cmap='jet')"
   ]
  },
  {
   "cell_type": "code",
   "execution_count": null,
   "id": "555f138d-f4b1-4fb9-b18e-7210ce6d3e82",
   "metadata": {},
   "outputs": [],
   "source": [
    "X[0], y[0]"
   ]
  },
  {
   "cell_type": "code",
   "execution_count": null,
   "id": "c87f5bf4-b019-4e11-a802-592cc3dafc85",
   "metadata": {},
   "outputs": [],
   "source": [
    "a = Value(5, name='a')\n",
    "b = Value(6, name='b')\n",
    "c = a+b; c.name='c'\n"
   ]
  },
  {
   "cell_type": "code",
   "execution_count": null,
   "id": "8d01d5ac-8c5a-4689-a806-e2de203157c8",
   "metadata": {},
   "outputs": [],
   "source": [
    "a"
   ]
  },
  {
   "cell_type": "code",
   "execution_count": 2,
   "id": "bcf63085-e0d1-471b-9f8d-b01cf6aabee3",
   "metadata": {},
   "outputs": [
    {
     "data": {
      "text/plain": [
       "(0.10000000149011612, 0.03999999910593033, 5.0, -1.0)"
      ]
     },
     "execution_count": 2,
     "metadata": {},
     "output_type": "execute_result"
    }
   ],
   "source": []
  },
  {
   "cell_type": "code",
   "execution_count": 3,
   "id": "efb01f2a-3264-4869-b25d-030244088a66",
   "metadata": {},
   "outputs": [
    {
     "ename": "NameError",
     "evalue": "name 'Value' is not defined",
     "output_type": "error",
     "traceback": [
      "\u001b[0;31m---------------------------------------------------------------------------\u001b[0m",
      "\u001b[0;31mNameError\u001b[0m                                 Traceback (most recent call last)",
      "Cell \u001b[0;32mIn[3], line 1\u001b[0m\n\u001b[0;32m----> 1\u001b[0m x1,x2 \u001b[38;5;241m=\u001b[39m \u001b[43mValue\u001b[49m(\u001b[38;5;241m5.\u001b[39m), Value(\u001b[38;5;241m-\u001b[39m\u001b[38;5;241m1.\u001b[39m)\n\u001b[1;32m      2\u001b[0m w1,w2 \u001b[38;5;241m=\u001b[39m Value(\u001b[38;5;241m.1\u001b[39m), Value(\u001b[38;5;241m.04\u001b[39m)\n\u001b[1;32m      3\u001b[0m get_grads(x1,x2,w1,w2)\n",
      "\u001b[0;31mNameError\u001b[0m: name 'Value' is not defined"
     ]
    }
   ],
   "source": []
  },
  {
   "cell_type": "code",
   "execution_count": 1,
   "id": "cd82af70-c8cd-45c0-81b9-abb23a8cafd8",
   "metadata": {},
   "outputs": [
    {
     "ename": "NameError",
     "evalue": "name 'x2' is not defined",
     "output_type": "error",
     "traceback": [
      "\u001b[0;31m---------------------------------------------------------------------------\u001b[0m",
      "\u001b[0;31mNameError\u001b[0m                                 Traceback (most recent call last)",
      "Cell \u001b[0;32mIn[1], line 1\u001b[0m\n\u001b[0;32m----> 1\u001b[0m \u001b[43mx2\u001b[49m\u001b[38;5;241m.\u001b[39mgrad\n",
      "\u001b[0;31mNameError\u001b[0m: name 'x2' is not defined"
     ]
    }
   ],
   "source": [
    "x2.grad"
   ]
  },
  {
   "cell_type": "code",
   "execution_count": null,
   "id": "83f3ca87-b757-4bd8-9df5-383f00f17691",
   "metadata": {},
   "outputs": [],
   "source": []
  }
 ],
 "metadata": {
  "kernelspec": {
   "display_name": "Python 3 (ipykernel)",
   "language": "python",
   "name": "python3"
  },
  "language_info": {
   "codemirror_mode": {
    "name": "ipython",
    "version": 3
   },
   "file_extension": ".py",
   "mimetype": "text/x-python",
   "name": "python",
   "nbconvert_exporter": "python",
   "pygments_lexer": "ipython3",
   "version": "3.11.6"
  }
 },
 "nbformat": 4,
 "nbformat_minor": 5
}
